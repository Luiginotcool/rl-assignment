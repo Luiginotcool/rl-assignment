{
 "cells": [
  {
   "cell_type": "code",
   "execution_count": null,
   "metadata": {
    "id": "Zyww5Q6zFIM9"
   },
   "outputs": [],
   "source": [
    "%load_ext autoreload\n",
    "%autoreload 2\n",
    "\n",
    "import numpy as np\n",
    "import matplotlib.pyplot as plt\n",
    "from gridworld_env_assignment import GridWorld\n",
    "from utils import paint_gridworld"
   ]
  },
  {
   "cell_type": "markdown",
   "metadata": {
    "id": "lbY8DCqoVJlw"
   },
   "source": [
    "## Checking the initial environments.\n",
    "Construct a `GridWorld` with appropriate input arguments for each of the two tasks. Use `paint_gridworld` to plot the resulting environments. "
   ]
  },
  {
   "cell_type": "code",
   "execution_count": null,
   "metadata": {
    "colab": {
     "base_uri": "https://localhost:8080/",
     "height": 990
    },
    "id": "CuEktkbnFINB",
    "outputId": "058f3b07-0dbc-40f4-cf31-10b9aed8974d"
   },
   "outputs": [],
   "source": [
    "example_env = GridWorld(goal_locations=[(1,1)], goal_rewards=[100])\n",
    "\n",
    "paint_gridworld(example_env)"
   ]
  },
  {
   "cell_type": "markdown",
   "metadata": {},
   "source": [
    "## Example of running a simulation "
   ]
  },
  {
   "cell_type": "code",
   "execution_count": null,
   "metadata": {},
   "outputs": [],
   "source": [
    "number_of_actions = example_env.get_action_size()\n",
    "\n",
    "reward_lst = []\n",
    "\n",
    "# Reset the environment to start from the starting location. \n",
    "# The reset() method returns the state, reward, and whether the episode is done or not\n",
    "# More information can be found under the definition of the method\n",
    "_, state, reward, done = example_env.reset()\n",
    "reward_lst.append(reward)\n",
    "\n",
    "# Track the most recent action from each state. \n",
    "# This can make a nice visualization. \n",
    "most_recent_action_from_state = np.ones(example_env.get_gridshape()) * -1\n",
    "\n",
    "# Repeat until the episode is not done, i.e. the agent has not fallen into a cliff,\n",
    "# the maximum length of the episode has not been exceeded, and the target has not been reached.\n",
    "while not done:\n",
    "    # Take a step using the step() function and passing in one of the available actions [0, 1, 2, 3] \n",
    "    # corresponding to ['N', 'S', 'E', 'W']\n",
    "    # More information can be found under the definition of the method\n",
    "    # In this very simple example for each step we choose a random action\n",
    "    action_from_state = np.random.choice(number_of_actions)\n",
    "\n",
    "    state_as_tuple = example_env.get_loc_from_state(state)\n",
    "    most_recent_action_from_state[*state_as_tuple] = action_from_state\n",
    "\n",
    "    _, state, reward, done = example_env.step(action_from_state)\n",
    "    reward_lst.append(reward)\n",
    "\n",
    "print(f'Collected rewards of an episode: {reward_lst}')\n",
    "paint_gridworld(example_env, actions=most_recent_action_from_state)"
   ]
  },
  {
   "cell_type": "markdown",
   "metadata": {},
   "source": [
    "# Create an RL Agent\n",
    "\n",
    "Implement either SARSA or Q-learning to determine how your agent executes actions and learns from the gathered rewards."
   ]
  },
  {
   "cell_type": "code",
   "execution_count": null,
   "metadata": {},
   "outputs": [],
   "source": [
    "def learn_policy(env: GridWorld, n_episodes: int=1, ) -> tuple[np.ndarray, list[float], list[int]]:\n",
    "    \"\"\"\n",
    "    Solve a given GridWorld environment using SARSA or Q-learning\n",
    "\n",
    "    Args:\n",
    "        env: The grid-world environment that will return states and rewards when given actions. \n",
    "        n_episodes: Number of episodes for which to run learning. \n",
    "\n",
    "    Returns:\n",
    "        policy: A 2D array that represents the best action to take from each state location. \n",
    "        total_rewards: Corresponding list of successive total non-discounted sum of reward for each trial\n",
    "        episode_lengths: Corresponding list of episode lengths. \n",
    "    \"\"\"\n",
    "\n",
    "    ####\n",
    "    # Add your code here\n",
    "    # WARNING: this agent should only access env.reset() and env.step()\n",
    "    ####\n",
    "\n",
    "\n",
    "    # You should use these outputs to plot graphs\n",
    "    return policy, total_rewards, episode_lengths"
   ]
  },
  {
   "cell_type": "markdown",
   "metadata": {
    "id": "FkFQmaRaFINC"
   },
   "source": [
    "# Learn Policy for Dual Targets with Differing Rewards\n",
    "Learn a policy for an environment with two goals, where the more distant goal is considerably more valuable. \n",
    "\n",
    "TIP: Test the learning algorithm with an environment that has just a single reward, and in different positions. \n",
    "\n",
    "TIP: Modify the relative rewards between the two goals to see changes in behavior. "
   ]
  },
  {
   "cell_type": "code",
   "execution_count": null,
   "metadata": {},
   "outputs": [],
   "source": [
    "env = GridWorld(goal_locations=[], goal_rewards=[])\n",
    "paint_gridworld(env)\n",
    "\n",
    "# Example of running agent\n",
    "policy, total_rewards, total_steps = learn_policy(env)"
   ]
  },
  {
   "cell_type": "code",
   "execution_count": null,
   "metadata": {},
   "outputs": [],
   "source": [
    "# Do your plots below! Include any new function definitions in this jupyter notebook!"
   ]
  }
 ],
 "metadata": {
  "colab": {
   "include_colab_link": true,
   "provenance": []
  },
  "kernelspec": {
   "display_name": ".com_env",
   "language": "python",
   "name": "python3"
  },
  "language_info": {
   "codemirror_mode": {
    "name": "ipython",
    "version": 3
   },
   "file_extension": ".py",
   "mimetype": "text/x-python",
   "name": "python",
   "nbconvert_exporter": "python",
   "pygments_lexer": "ipython3",
   "version": "3.13.1"
  }
 },
 "nbformat": 4,
 "nbformat_minor": 4
}
